{
 "cells": [
  {
   "cell_type": "markdown",
   "metadata": {},
   "source": [
    "# Model Infernce"
   ]
  },
  {
   "cell_type": "markdown",
   "metadata": {},
   "source": [
    "# Introduction\n",
    "___\n",
    "___\n",
    "Nama    : Vicky Eldora Wuisan\n",
    "\n",
    "---\n",
    "---\n",
    "\n",
    "> Problem Statement :   \n",
    "\n",
    "In today's world, people can easily express their opinions on social media. Therefore, as a company operating in the social media sector, specifically Twitter, we want to identify and classify tweets posted by Twitter users into three categories: neutral, positive, and negative. We aim to do this because it is observed that some people misuse the platform to tweet hateful content __[source](https://news.detik.com/berita/d-2830824/duel-di-depan-istora-senayan-karena-twitwar-ini-klarifikasi-redinparis)__. Twitter is trying to tackle this problem. Hence, we will attempt to create a robust NLP-based classification model to distinguish negative tweets and block such tweets, and if necessary, block the accounts that post these negative tweets.\n",
    "\n",
    "> Objective :   \n",
    "\n",
    "The main objective of this project is to develop an NLP-based classification model aimed at predicting neutral, negative, and positive tweets based on the given dataset. The method used will be a Recurrent Neural Network (RNN). Model evaluation will be conducted using the accuracy metric to determine whether the model is a good fit, underfit, or overfit, which will then facilitate its application for predictive purposes."
   ]
  },
  {
   "cell_type": "markdown",
   "metadata": {},
   "source": [
    "# Import Libraries"
   ]
  },
  {
   "cell_type": "code",
   "execution_count": 1,
   "metadata": {},
   "outputs": [
    {
     "name": "stdout",
     "output_type": "stream",
     "text": [
      "WARNING:tensorflow:From c:\\ProgramData\\anaconda3\\Lib\\site-packages\\keras\\src\\losses.py:2976: The name tf.losses.sparse_softmax_cross_entropy is deprecated. Please use tf.compat.v1.losses.sparse_softmax_cross_entropy instead.\n",
      "\n"
     ]
    }
   ],
   "source": [
    "# Library Load Model\n",
    "import pandas as pd\n",
    "import numpy as np\n",
    "\n",
    "# import pickle\n",
    "from tensorflow.keras.models import load_model\n",
    "import tensorflow as tf\n",
    "import tensorflow_hub as tf_hub\n",
    "\n",
    "# Library Pre-Processing\n",
    "import nltk\n",
    "import re\n",
    "from nltk.corpus import stopwords\n",
    "from nltk.tokenize import word_tokenize\n",
    "import string\n",
    "from nltk.stem import WordNetLemmatizer\n",
    "from tensorflow.keras.preprocessing.text import Tokenizer\n",
    "from tensorflow.keras.preprocessing.sequence import pad_sequences\n",
    "from gensim.models import Word2Vec\n",
    "\n",
    "# Suppress warnings\n",
    "import warnings\n",
    "warnings.filterwarnings(\"ignore\")"
   ]
  },
  {
   "cell_type": "markdown",
   "metadata": {},
   "source": [
    "# Load model"
   ]
  },
  {
   "cell_type": "code",
   "execution_count": 2,
   "metadata": {},
   "outputs": [
    {
     "name": "stdout",
     "output_type": "stream",
     "text": [
      "WARNING:tensorflow:From c:\\ProgramData\\anaconda3\\Lib\\site-packages\\keras\\src\\saving\\legacy\\saved_model\\load.py:107: The name tf.gfile.Exists is deprecated. Please use tf.io.gfile.exists instead.\n",
      "\n",
      "WARNING:tensorflow:From c:\\ProgramData\\anaconda3\\Lib\\site-packages\\keras\\src\\saving\\legacy\\saved_model\\load.py:1113: The name tf.executing_eagerly_outside_functions is deprecated. Please use tf.compat.v1.executing_eagerly_outside_functions instead.\n",
      "\n"
     ]
    }
   ],
   "source": [
    "# Load the Models\n",
    "model = load_model('model_improve')"
   ]
  },
  {
   "cell_type": "markdown",
   "metadata": {},
   "source": [
    "# Define preprocess function"
   ]
  },
  {
   "cell_type": "code",
   "execution_count": 3,
   "metadata": {},
   "outputs": [],
   "source": [
    "# Additional Stopwords\n",
    "additional_stopwords = ['to', 'I','the','a','my','and','i', 'you', 'is', 'for', 'in', 'of',\n",
    " 'it', 'on', 'have', 'that', 'me', 'so', 'with', 'be', 'but',\n",
    " 'at', 'was', 'just', 'I`m', 'not', 'get', 'all', 'this', 'are',\n",
    " 'out', 'like', 'day', '-', 'up', 'go', 'your', 'good', 'got', 'from',\n",
    " 'do', 'going', 'no', 'now', 'love', 'work', '****', 'will', 'about',\n",
    " 'one', 'really', 'it`s', 'u', 'don`t', 'some', 'know', 'see', 'can',\n",
    " 'too', 'had', 'am', 'back', '&', 'time', 'what', 'its', 'want', 'we',\n",
    " 'new', 'as', 'im', 'think', 'can`t', '2', 'if', 'when', 'an', 'more',\n",
    " 'still', 'today', 'miss', 'has', 'they', 'much', 'there', 'last',\n",
    " 'need', 'My', 'how', 'been', 'home', 'lol', 'off', 'Just', 'feel',\n",
    " 'night', 'i`m', 'her', 'would', 'The']\n",
    "\n",
    "# Setting stopwords english\n",
    "stpwds_eng = list(set(stopwords.words('english')))\n",
    "for i in additional_stopwords:\n",
    "    stpwds_eng.append(i)"
   ]
  },
  {
   "cell_type": "code",
   "execution_count": 4,
   "metadata": {},
   "outputs": [],
   "source": [
    "# Membuat fungsi cleaning\n",
    "cleaning_pattern = \"@\\S+|https?:\\S+|http?:\\S|[^A-Za-z0-9]+\"\n",
    "lemmatizer = WordNetLemmatizer()\n",
    "stpwds_eng = list(set(stopwords.words('english')))\n",
    "\n",
    "# build text cleaning function\n",
    "def text_proses(text):\n",
    "\n",
    "    # Mengubah text ke Lowercase\n",
    "    text = text.lower()\n",
    "\n",
    "    # Menghilangkan mention, link, dan karakter non-alfanumerik\n",
    "    text = re.sub(cleaning_pattern, ' ', text)\n",
    "\n",
    "    # Menghilangkan Mention\n",
    "    text = re.sub(\"@[A-Za-z0-9_]+\", \" \", text)\n",
    "\n",
    "    # Menghilangkan Hashtag\n",
    "    text = re.sub(\"#[A-Za-z0-9_]+\", \" \", text)\n",
    "\n",
    "    # Menghilangkan \\n (newline)\n",
    "    text = re.sub(r\"\\\\n\", \" \",text)\n",
    "\n",
    "    # Menghilangkan kata dibawah 3 character\n",
    "    text = re.sub(r'\\b\\w{1,3}\\b', \" \",text)\n",
    "\n",
    "    # URL removal\n",
    "    text = re.sub(r\"http\\S+\", \" \", text)\n",
    "    text = re.sub(r\"www.\\S+\", \" \", text)\n",
    "\n",
    "    # Menghilangkan Whitespace di awal dan akhir\n",
    "    text = text.strip()\n",
    "\n",
    "    # Non-letter removal (such as emoticon, symbol (like μ, $, 兀), etc\n",
    "    text = re.sub(\"[^A-Za-z\\s']\", \" \", text)\n",
    "\n",
    "    # Menghilangkan double space\n",
    "    text = re.sub(\"\\s\\s+\" , \" \", text)\n",
    "\n",
    "    # Melakukan Tokenisasi\n",
    "    tokens = word_tokenize(text)\n",
    "\n",
    "    # Menghilangkan Stopwords\n",
    "    text = ' '.join([word for word in tokens if word not in stpwds_eng])\n",
    "\n",
    "    # Melakukan Lemmatizer\n",
    "    text = lemmatizer.lemmatize(text)\n",
    "\n",
    "    return text"
   ]
  },
  {
   "cell_type": "markdown",
   "metadata": {},
   "source": [
    "# Inference data"
   ]
  },
  {
   "cell_type": "code",
   "execution_count": 5,
   "metadata": {},
   "outputs": [
    {
     "data": {
      "text/html": [
       "<div>\n",
       "<style scoped>\n",
       "    .dataframe tbody tr th:only-of-type {\n",
       "        vertical-align: middle;\n",
       "    }\n",
       "\n",
       "    .dataframe tbody tr th {\n",
       "        vertical-align: top;\n",
       "    }\n",
       "\n",
       "    .dataframe thead th {\n",
       "        text-align: right;\n",
       "    }\n",
       "</style>\n",
       "<table border=\"1\" class=\"dataframe\">\n",
       "  <thead>\n",
       "    <tr style=\"text-align: right;\">\n",
       "      <th></th>\n",
       "      <th>text</th>\n",
       "    </tr>\n",
       "  </thead>\n",
       "  <tbody>\n",
       "    <tr>\n",
       "      <th>0</th>\n",
       "      <td>\\nhello, what's up brother? today i go to supe...</td>\n",
       "    </tr>\n",
       "  </tbody>\n",
       "</table>\n",
       "</div>"
      ],
      "text/plain": [
       "                                                text\n",
       "0  \\nhello, what's up brother? today i go to supe..."
      ]
     },
     "execution_count": 5,
     "metadata": {},
     "output_type": "execute_result"
    }
   ],
   "source": [
    "# Create New Data \n",
    "\n",
    "data_inf = {\n",
    "    'text' : '''\n",
    "hello, what's up brother? today i go to supermarket.\n",
    "    '''}\n",
    "\n",
    "data_inf = pd.DataFrame([data_inf])\n",
    "\n",
    "# show new data\n",
    "data_inf"
   ]
  },
  {
   "cell_type": "markdown",
   "metadata": {},
   "source": [
    "# Preprocess inference"
   ]
  },
  {
   "cell_type": "code",
   "execution_count": 6,
   "metadata": {},
   "outputs": [
    {
     "data": {
      "text/html": [
       "<div>\n",
       "<style scoped>\n",
       "    .dataframe tbody tr th:only-of-type {\n",
       "        vertical-align: middle;\n",
       "    }\n",
       "\n",
       "    .dataframe tbody tr th {\n",
       "        vertical-align: top;\n",
       "    }\n",
       "\n",
       "    .dataframe thead th {\n",
       "        text-align: right;\n",
       "    }\n",
       "</style>\n",
       "<table border=\"1\" class=\"dataframe\">\n",
       "  <thead>\n",
       "    <tr style=\"text-align: right;\">\n",
       "      <th></th>\n",
       "      <th>text</th>\n",
       "    </tr>\n",
       "  </thead>\n",
       "  <tbody>\n",
       "    <tr>\n",
       "      <th>0</th>\n",
       "      <td>hello brother today supermarket</td>\n",
       "    </tr>\n",
       "  </tbody>\n",
       "</table>\n",
       "</div>"
      ],
      "text/plain": [
       "                              text\n",
       "0  hello brother today supermarket"
      ]
     },
     "execution_count": 6,
     "metadata": {},
     "output_type": "execute_result"
    }
   ],
   "source": [
    "data_inf['text'] = data_inf['text'].apply(lambda x: text_proses(x))\n",
    "data_inf"
   ]
  },
  {
   "cell_type": "markdown",
   "metadata": {},
   "source": [
    "# Making predictions"
   ]
  },
  {
   "cell_type": "code",
   "execution_count": 7,
   "metadata": {},
   "outputs": [
    {
     "name": "stdout",
     "output_type": "stream",
     "text": [
      "1/1 [==============================] - 3s 3s/step\n",
      "That is positive Tweet\n"
     ]
    }
   ],
   "source": [
    "# Predict using ANN\n",
    "y_pred_inf = model.predict(data_inf)\n",
    "y_pred_inf = np.argmax(y_pred_inf)\n",
    "if y_pred_inf == 0:\n",
    "    print(f'That is negative Tweet')\n",
    "elif y_pred_inf == 1:\n",
    "    print(f'That is neutral Tweet')\n",
    "elif y_pred_inf == 2:\n",
    "    print(f'That is positive Tweet')"
   ]
  }
 ],
 "metadata": {
  "kernelspec": {
   "display_name": "base",
   "language": "python",
   "name": "python3"
  },
  "language_info": {
   "codemirror_mode": {
    "name": "ipython",
    "version": 3
   },
   "file_extension": ".py",
   "mimetype": "text/x-python",
   "name": "python",
   "nbconvert_exporter": "python",
   "pygments_lexer": "ipython3",
   "version": "3.11.7"
  }
 },
 "nbformat": 4,
 "nbformat_minor": 2
}
